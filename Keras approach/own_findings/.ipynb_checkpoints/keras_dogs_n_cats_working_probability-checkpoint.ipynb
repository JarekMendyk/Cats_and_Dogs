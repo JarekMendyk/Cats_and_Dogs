{
 "cells": [
  {
   "cell_type": "code",
   "execution_count": 2,
   "metadata": {},
   "outputs": [],
   "source": [
    "# get variable's type\n",
    "type(named_model)\n",
    "\n",
    "\n",
    "# get methods that variable has\n",
    "dir(named_model)"
   ]
  },
  {
   "cell_type": "markdown",
   "metadata": {},
   "source": [
    "# Introduction"
   ]
  },
  {
   "cell_type": "markdown",
   "metadata": {
    "collapsed": true,
    "scrolled": true
   },
   "source": [
    "'''This script goes along the blog post\n",
    "\"Building powerful image classification models using very little data\"\n",
    "from blog.keras.io.\n",
    "\"https://blog.keras.io/building-powerful-image-classification-models-using-very-little-data.html\"\n",
    "\n",
    "It uses data that can be downloaded at:\n",
    "https://www.kaggle.com/c/dogs-vs-cats/data\n",
    "In our setup, we:\n",
    "- created a data/ folder\n",
    "- created train/ and validation/ subfolders inside data/\n",
    "- created cats/ and dogs/ subfolders inside train/ and validation/\n",
    "- put the cat pictures index 0-999 in data/train/cats\n",
    "- put the cat pictures index 1000-1400 in data/validation/cats\n",
    "- put the dogs pictures index 12500-13499 in data/train/dogs\n",
    "- put the dog pictures index 13500-13900 in data/validation/dogs\n",
    "So that we have 1000 training examples for each class, and 400 validation examples for each class.\n",
    "In summary, this is our directory structure:\n",
    "```\n",
    "data/\n",
    "    train/\n",
    "        dogs/\n",
    "            dog001.jpg\n",
    "            dog002.jpg\n",
    "            ...\n",
    "        cats/\n",
    "            cat001.jpg\n",
    "            cat002.jpg\n",
    "            ...\n",
    "    validation/\n",
    "        dogs/\n",
    "            dog001.jpg\n",
    "            dog002.jpg\n",
    "            ...\n",
    "        cats/\n",
    "            cat001.jpg\n",
    "            cat002.jpg\n",
    "            ...\n",
    "```\n",
    "'''\n"
   ]
  },
  {
   "cell_type": "markdown",
   "metadata": {},
   "source": [
    "# Code"
   ]
  },
  {
   "cell_type": "markdown",
   "metadata": {},
   "source": [
    "### Constants, paths, configuration"
   ]
  },
  {
   "cell_type": "code",
   "execution_count": 3,
   "metadata": {
    "collapsed": true
   },
   "outputs": [],
   "source": [
    "# dimensions of our images.\n",
    "img_width, img_height = 150, 150\n",
    "target_size = (img_width, img_height)\n",
    "\n",
    "## folder in which there are datasets and where bottleneck files will be saved\n",
    "DATASET_FOLDER = 'G:/Prace/Jarek/Modele/NeuralNetworks/dogs_and_cats/weekend_version/dogs_and_cats/data_small'\n",
    "\n",
    "## remember to edit these values when changing datasets\n",
    "nb_train_samples = 2000\n",
    "nb_validation_samples = 800\n",
    "epochs = 50\n",
    "batch_size = 16\n",
    "\n",
    "\n",
    "top_model_weights_path = '{}/bottleneck_fc_model.h5'.format(DATASET_FOLDER)\n",
    "train_data_dir = '{}/train'.format(DATASET_FOLDER)\n",
    "validation_data_dir = '{}/validation'.format(DATASET_FOLDER)\n",
    "\n",
    "features_train_path = '{}/bottleneck_features_train.npy'.format(DATASET_FOLDER)\n",
    "features_validation_path = '{}/bottleneck_features_validation.npy'.format(DATASET_FOLDER)\n",
    "\n",
    "\n",
    "# Checks if nb_train_samples and nb_validation_samples\n",
    "# are divisible by batch_size\n",
    "\n",
    "if nb_train_samples % batch_size != 0:\n",
    "    raise ArithmeticError(\n",
    "        \"nb_train_samples should be divisibe by batch_size.\\n\"\n",
    "        \"nb_train_samples is \"+str(nb_train_samples)+\", \"\n",
    "        \"but batch_size is \"+str(batch_size)+\".\"\n",
    "    )\n",
    "    \n",
    "if nb_validation_samples % batch_size != 0:\n",
    "    raise ArithmeticError(\n",
    "        \"nb_validation_samples should be divisibe by batch_size.\\n\"\n",
    "        \"nb_validation_samples is \"+str(nb_validation_samples)+\", \"\n",
    "        \"but batch_size is \"+str(batch_size)+\".\"\n",
    "    )"
   ]
  },
  {
   "cell_type": "markdown",
   "metadata": {},
   "source": [
    "### Proper code"
   ]
  },
  {
   "cell_type": "code",
   "execution_count": 4,
   "metadata": {
    "scrolled": true
   },
   "outputs": [
    {
     "name": "stderr",
     "output_type": "stream",
     "text": [
      "Using TensorFlow backend.\n"
     ]
    }
   ],
   "source": [
    "import numpy as np\n",
    "from keras.preprocessing.image import ImageDataGenerator\n",
    "from keras.models import Sequential\n",
    "from keras.layers import Dropout, Flatten, Dense\n",
    "from keras import applications\n",
    "\n",
    "def save_bottlebeck_features():\n",
    "    datagen = ImageDataGenerator(rescale = 1. / 255)\n",
    "\n",
    "    # build the VGG16 network\n",
    "    model = applications.VGG16(include_top = False, weights = 'imagenet')\n",
    "    \n",
    "    def create_bottleneck(data_dir, samples_count, features_path):\n",
    "        generator = datagen.flow_from_directory(\n",
    "            data_dir,\n",
    "            target_size = target_size,\n",
    "            batch_size = batch_size,\n",
    "            class_mode = None,\n",
    "            shuffle = False)\n",
    "        bottleneck_features = model.predict_generator(generator, samples_count // batch_size)\n",
    "        np.save(features_path, bottleneck_features)\n",
    "\n",
    "    create_bottleneck(train_data_dir, nb_train_samples, features_train_path)\n",
    "    \n",
    "    create_bottleneck(validation_data_dir, nb_validation_samples, features_validation_path)\n",
    "\n",
    "def my_model(input_shape):\n",
    "    model = Sequential()\n",
    "    model.add(Flatten(input_shape = input_shape))\n",
    "    model.add(Dense(256, activation = 'relu'))\n",
    "    model.add(Dropout(0.5))\n",
    "    model.add(Dense(1, activation = 'sigmoid'))\n",
    "    return model\n",
    "\n",
    "def train_top_model():\n",
    "    \n",
    "    train_data = np.load(features_train_path)\n",
    "    train_labels = np.array(\n",
    "        [0] * (nb_train_samples // 2) + [1] * (nb_train_samples // 2))\n",
    "\n",
    "    validation_data = np.load(features_validation_path)\n",
    "    validation_labels = np.array(\n",
    "        [0] * (nb_validation_samples // 2) + [1] * (nb_validation_samples // 2))\n",
    "\n",
    "    model = my_model(input_shape = train_data.shape[1:])\n",
    "    model.compile(optimizer = 'rmsprop', loss = 'binary_crossentropy', metrics = ['accuracy'])\n",
    "    model.fit(train_data, train_labels, epochs = epochs, batch_size = batch_size, \n",
    "              validation_data = (validation_data, validation_labels))\n",
    "    model.save_weights(top_model_weights_path)\n"
   ]
  },
  {
   "cell_type": "code",
   "execution_count": 5,
   "metadata": {},
   "outputs": [
    {
     "name": "stdout",
     "output_type": "stream",
     "text": [
      "Found 2000 images belonging to 2 classes.\n",
      "Found 800 images belonging to 2 classes.\n",
      "Train on 2000 samples, validate on 800 samples\n",
      "Epoch 1/50\n",
      "2000/2000 [==============================] - 3s - loss: 8.0324 - acc: 0.4995 - val_loss: 8.0590 - val_acc: 0.5000\n",
      "Epoch 2/50\n",
      "2000/2000 [==============================] - 3s - loss: 8.0590 - acc: 0.5000 - val_loss: 8.0590 - val_acc: 0.5000\n",
      "Epoch 3/50\n",
      "2000/2000 [==============================] - 3s - loss: 8.0590 - acc: 0.5000 - val_loss: 8.0590 - val_acc: 0.5000\n",
      "Epoch 4/50\n",
      "2000/2000 [==============================] - 3s - loss: 8.0590 - acc: 0.5000 - val_loss: 8.0590 - val_acc: 0.5000\n",
      "Epoch 5/50\n",
      "2000/2000 [==============================] - 3s - loss: 8.0590 - acc: 0.5000 - val_loss: 8.0590 - val_acc: 0.5000\n",
      "Epoch 6/50\n",
      "2000/2000 [==============================] - 3s - loss: 8.0587 - acc: 0.5000 - val_loss: 8.0587 - val_acc: 0.5000\n",
      "Epoch 7/50\n",
      "2000/2000 [==============================] - 3s - loss: 0.6847 - acc: 0.7715 - val_loss: 0.3073 - val_acc: 0.8562\n",
      "Epoch 8/50\n",
      "2000/2000 [==============================] - 3s - loss: 0.3386 - acc: 0.8640 - val_loss: 0.2811 - val_acc: 0.8925\n",
      "Epoch 9/50\n",
      "2000/2000 [==============================] - 3s - loss: 0.2918 - acc: 0.8835 - val_loss: 0.3450 - val_acc: 0.8575\n",
      "Epoch 10/50\n",
      "2000/2000 [==============================] - 3s - loss: 0.2353 - acc: 0.9040 - val_loss: 0.2868 - val_acc: 0.8888\n",
      "Epoch 11/50\n",
      "2000/2000 [==============================] - 3s - loss: 0.2168 - acc: 0.9170 - val_loss: 0.3924 - val_acc: 0.8588\n",
      "Epoch 12/50\n",
      "2000/2000 [==============================] - 3s - loss: 0.1790 - acc: 0.9255 - val_loss: 0.3084 - val_acc: 0.9025\n",
      "Epoch 13/50\n",
      "2000/2000 [==============================] - 3s - loss: 0.1689 - acc: 0.9285 - val_loss: 0.3435 - val_acc: 0.8962\n",
      "Epoch 14/50\n",
      "2000/2000 [==============================] - 2s - loss: 0.1401 - acc: 0.9465 - val_loss: 0.4450 - val_acc: 0.8650\n",
      "Epoch 15/50\n",
      "2000/2000 [==============================] - 2s - loss: 0.1416 - acc: 0.9465 - val_loss: 0.4664 - val_acc: 0.8775\n",
      "Epoch 16/50\n",
      "2000/2000 [==============================] - 3s - loss: 0.1225 - acc: 0.9525 - val_loss: 0.3564 - val_acc: 0.9000\n",
      "Epoch 17/50\n",
      "2000/2000 [==============================] - 2s - loss: 0.1065 - acc: 0.9625 - val_loss: 0.3227 - val_acc: 0.9050\n",
      "Epoch 18/50\n",
      "2000/2000 [==============================] - 2s - loss: 0.0987 - acc: 0.9610 - val_loss: 0.3810 - val_acc: 0.8938\n",
      "Epoch 19/50\n",
      "2000/2000 [==============================] - 3s - loss: 0.0807 - acc: 0.9675 - val_loss: 0.6278 - val_acc: 0.8600\n",
      "Epoch 20/50\n",
      "2000/2000 [==============================] - 2s - loss: 0.0743 - acc: 0.9725 - val_loss: 0.5107 - val_acc: 0.8862\n",
      "Epoch 21/50\n",
      "2000/2000 [==============================] - 3s - loss: 0.0791 - acc: 0.9715 - val_loss: 0.4464 - val_acc: 0.9000\n",
      "Epoch 22/50\n",
      "2000/2000 [==============================] - 3s - loss: 0.0651 - acc: 0.9770 - val_loss: 0.5960 - val_acc: 0.8862\n",
      "Epoch 23/50\n",
      "2000/2000 [==============================] - 3s - loss: 0.0555 - acc: 0.9835 - val_loss: 0.5587 - val_acc: 0.8975\n",
      "Epoch 24/50\n",
      "2000/2000 [==============================] - 2s - loss: 0.0520 - acc: 0.9800 - val_loss: 0.5671 - val_acc: 0.9025\n",
      "Epoch 25/50\n",
      "2000/2000 [==============================] - 3s - loss: 0.0483 - acc: 0.9825 - val_loss: 0.5980 - val_acc: 0.8988\n",
      "Epoch 26/50\n",
      "2000/2000 [==============================] - 3s - loss: 0.0502 - acc: 0.9830 - val_loss: 0.5201 - val_acc: 0.9038\n",
      "Epoch 27/50\n",
      "2000/2000 [==============================] - 3s - loss: 0.0461 - acc: 0.9860 - val_loss: 0.7173 - val_acc: 0.8850\n",
      "Epoch 28/50\n",
      "2000/2000 [==============================] - 3s - loss: 0.0539 - acc: 0.9810 - val_loss: 0.5475 - val_acc: 0.8950\n",
      "Epoch 29/50\n",
      "2000/2000 [==============================] - 3s - loss: 0.0328 - acc: 0.9880 - val_loss: 0.6364 - val_acc: 0.9000\n",
      "Epoch 30/50\n",
      "2000/2000 [==============================] - 3s - loss: 0.0335 - acc: 0.9860 - val_loss: 0.6304 - val_acc: 0.8950\n",
      "Epoch 31/50\n",
      "2000/2000 [==============================] - 2s - loss: 0.0303 - acc: 0.9895 - val_loss: 0.7030 - val_acc: 0.8912\n",
      "Epoch 32/50\n",
      "2000/2000 [==============================] - 2s - loss: 0.0356 - acc: 0.9855 - val_loss: 0.6435 - val_acc: 0.8962\n",
      "Epoch 33/50\n",
      "2000/2000 [==============================] - 2s - loss: 0.0354 - acc: 0.9860 - val_loss: 0.7422 - val_acc: 0.8875\n",
      "Epoch 34/50\n",
      "2000/2000 [==============================] - 3s - loss: 0.0267 - acc: 0.9900 - val_loss: 0.7529 - val_acc: 0.9012\n",
      "Epoch 35/50\n",
      "2000/2000 [==============================] - 3s - loss: 0.0285 - acc: 0.9890 - val_loss: 0.7783 - val_acc: 0.8950\n",
      "Epoch 36/50\n",
      "2000/2000 [==============================] - 2s - loss: 0.0275 - acc: 0.9905 - val_loss: 0.6923 - val_acc: 0.8950\n",
      "Epoch 37/50\n",
      "2000/2000 [==============================] - 2s - loss: 0.0177 - acc: 0.9955 - val_loss: 0.8003 - val_acc: 0.8912\n",
      "Epoch 38/50\n",
      "2000/2000 [==============================] - 2s - loss: 0.0194 - acc: 0.9935 - val_loss: 0.7710 - val_acc: 0.9000\n",
      "Epoch 39/50\n",
      "2000/2000 [==============================] - 3s - loss: 0.0376 - acc: 0.9895 - val_loss: 0.7387 - val_acc: 0.9000\n",
      "Epoch 40/50\n",
      "2000/2000 [==============================] - 2s - loss: 0.0242 - acc: 0.9935 - val_loss: 0.7584 - val_acc: 0.8925\n",
      "Epoch 41/50\n",
      "2000/2000 [==============================] - 3s - loss: 0.0163 - acc: 0.9940 - val_loss: 0.7759 - val_acc: 0.8912\n",
      "Epoch 42/50\n",
      "2000/2000 [==============================] - 2s - loss: 0.0192 - acc: 0.9945 - val_loss: 0.8179 - val_acc: 0.8888\n",
      "Epoch 43/50\n",
      "2000/2000 [==============================] - 2s - loss: 0.0199 - acc: 0.9925 - val_loss: 0.9606 - val_acc: 0.8850\n",
      "Epoch 44/50\n",
      "2000/2000 [==============================] - 2s - loss: 0.0186 - acc: 0.9940 - val_loss: 0.8115 - val_acc: 0.8938\n",
      "Epoch 45/50\n",
      "2000/2000 [==============================] - 3s - loss: 0.0209 - acc: 0.9925 - val_loss: 0.7393 - val_acc: 0.8975\n",
      "Epoch 46/50\n",
      "2000/2000 [==============================] - 2s - loss: 0.0337 - acc: 0.9910 - val_loss: 0.7637 - val_acc: 0.8962\n",
      "Epoch 47/50\n",
      "2000/2000 [==============================] - 3s - loss: 0.0191 - acc: 0.9940 - val_loss: 0.8001 - val_acc: 0.8988\n",
      "Epoch 48/50\n",
      "2000/2000 [==============================] - 3s - loss: 0.0139 - acc: 0.9950 - val_loss: 0.8647 - val_acc: 0.8988\n",
      "Epoch 49/50\n",
      "2000/2000 [==============================] - 3s - loss: 0.0210 - acc: 0.9930 - val_loss: 0.8332 - val_acc: 0.8988\n",
      "Epoch 50/50\n",
      "2000/2000 [==============================] - 2s - loss: 0.0113 - acc: 0.9960 - val_loss: 0.8533 - val_acc: 0.8950\n"
     ]
    }
   ],
   "source": [
    "save_bottlebeck_features()\n",
    "train_top_model()"
   ]
  },
  {
   "cell_type": "code",
   "execution_count": 6,
   "metadata": {
    "collapsed": true
   },
   "outputs": [],
   "source": [
    "from urllib.request import urlopen\n",
    "import io\n",
    "from keras.preprocessing.image import ImageDataGenerator, array_to_img, img_to_array, load_img\n",
    "\n",
    "# Loads image\n",
    "# path_or_url - path to image on disk or url to image on the internet\n",
    "# target_size - dimentions of the returned image\n",
    "# return PIL image\n",
    "def get_img(path_or_url, target_size):\n",
    "    img_path = None\n",
    "    \n",
    "    if path_or_url.startswith(\"http://\") or path_or_url.startswith(\"https://\"):\n",
    "        img_path = io.BytesIO(urlopen(path_or_url).read())\n",
    "    else:\n",
    "        img_path = path_or_url\n",
    "\n",
    "    return load_img(img_path, target_size = target_size)\n",
    "\n",
    "def get_img_as_tensor(path_or_url, target_size):\n",
    "    img = get_img(path_or_url, target_size)\n",
    "    tensor = img_to_array(img)\n",
    "    return tensor/255"
   ]
  },
  {
   "cell_type": "code",
   "execution_count": 5,
   "metadata": {},
   "outputs": [
    {
     "data": {
      "text/plain": [
       "array([[  5.91558456e-01],\n",
       "       [  1.00000000e+00],\n",
       "       [  1.00000000e+00],\n",
       "       [  1.00000000e+00],\n",
       "       [  1.00000000e+00],\n",
       "       [  1.26443647e-08],\n",
       "       [  5.20987533e-06],\n",
       "       [  1.27965397e-15],\n",
       "       [  1.33001347e-04],\n",
       "       [  3.05550737e-18],\n",
       "       [  6.98586762e-01],\n",
       "       [  6.25797702e-18],\n",
       "       [  1.00000000e+00],\n",
       "       [  1.36145026e-10],\n",
       "       [  7.14592761e-06],\n",
       "       [  2.31277827e-11]], dtype=float32)"
      ]
     },
     "execution_count": 5,
     "metadata": {},
     "output_type": "execute_result"
    }
   ],
   "source": [
    "\n",
    "example_dog_url = \"https://i.ytimg.com/vi/SfLV8hD7zX4/maxresdefault.jpg\"\n",
    "example_cat_url = \"http://www.petmd.com/sites/default/files/what-does-it-mean-when-cat-wags-tail.jpg\"\n",
    "ele_url = \"https://upload.wikimedia.org/wikipedia/commons/6/63/African_elephant_warning_raised_trunk.jpg\"\n",
    "\n",
    "\n",
    "img = get_img_as_tensor(ele_url, target_size)\n",
    "\n",
    "images = [img] # one image added by default\n",
    "# img.shape = (150, 150, 3)\n",
    "\n",
    "# Can also add multiple from test folder\n",
    "for n in range(1, 16):\n",
    "    img = get_img_as_tensor(\"dogs_and_cats/split_data/test/{}.jpg\".format(n), target_size)\n",
    "    images.append(img)\n",
    "\n",
    "# convert list of ndarrays to ndarray \n",
    "# ----- for instance images is N ndarrays of shape (A,B,C)\n",
    "# ----- result of np.stack will be ndarray of shape (N, A, B, C)\n",
    "images = np.stack(images, axis = 0)\n",
    "\n",
    "# find features using VGG16\n",
    "vgg16_model = applications.VGG16(weights='imagenet', include_top=False)\n",
    "features = vgg16_model.predict(images) # images.shape == (images_count, 150, 150, 3)\n",
    "# features.shape == (images_count, 4, 4, 512)\n",
    "\n",
    "# get our freakin' epic model\n",
    "model = my_model(features.shape[1:])\n",
    "\n",
    "# load saved weights\n",
    "model.load_weights(top_model_weights_path)\n",
    "\n",
    "# predict\n",
    "model.predict(features, batch_size = batch_size)"
   ]
  },
  {
   "cell_type": "code",
   "execution_count": null,
   "metadata": {
    "collapsed": true
   },
   "outputs": [],
   "source": []
  },
  {
   "cell_type": "code",
   "execution_count": 91,
   "metadata": {},
   "outputs": [
    {
     "name": "stdout",
     "output_type": "stream",
     "text": [
      "Found 2000 images belonging to 2 classes.\n"
     ]
    }
   ],
   "source": [
    "datagen = ImageDataGenerator(\n",
    "        rotation_range=40,\n",
    "        width_shift_range=0.2,\n",
    "        height_shift_range=0.2,\n",
    "        shear_range=0.2,\n",
    "        zoom_range=0.2,\n",
    "        horizontal_flip=True,\n",
    "        fill_mode='nearest')\n",
    "\n",
    "generator = datagen.flow_from_directory(\n",
    "    train_data_dir,\n",
    "    target_size = target_size,\n",
    "    batch_size = 256,\n",
    "    class_mode = None,\n",
    "    shuffle = False)"
   ]
  },
  {
   "cell_type": "code",
   "execution_count": 94,
   "metadata": {},
   "outputs": [
    {
     "data": {
      "image/png": "[encoded data removed]",
      "text/plain": [
       "<PIL.Image.Image image mode=RGB size=150x150 at 0x7F324EFF2FD0>"
      ]
     },
     "execution_count": 94,
     "metadata": {},
     "output_type": "execute_result"
    }
   ],
   "source": [
    "array_to_img(generator.next()[0])"
   ]
  }
 ],
 "metadata": {
  "kernelspec": {
   "display_name": "Python 3",
   "language": "python",
   "name": "python3"
  },
  "language_info": {
   "codemirror_mode": {
    "name": "ipython",
    "version": 3
   },
   "file_extension": ".py",
   "mimetype": "text/x-python",
   "name": "python",
   "nbconvert_exporter": "python",
   "pygments_lexer": "ipython3",
   "version": "3.5.3"
  }
 },
 "nbformat": 4,
 "nbformat_minor": 2
}
