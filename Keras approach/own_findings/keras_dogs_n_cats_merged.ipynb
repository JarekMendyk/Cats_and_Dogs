{
 "cells": [
  {
   "cell_type": "markdown",
   "metadata": {},
   "source": [
    "# Introduction"
   ]
  },
  {
   "cell_type": "markdown",
   "metadata": {
    "collapsed": true,
    "scrolled": true
   },
   "source": [
    "'''This script goes along the blog post\n",
    "\"Building powerful image classification models using very little data\"\n",
    "from blog.keras.io.\n",
    "\"https://blog.keras.io/building-powerful-image-classification-models-using-very-little-data.html\"\n",
    "\n",
    "It uses data that can be downloaded at:\n",
    "https://www.kaggle.com/c/dogs-vs-cats/data\n",
    "In our setup, we:\n",
    "- created a data/ folder\n",
    "- created train/ and validation/ subfolders inside data/\n",
    "- created cats/ and dogs/ subfolders inside train/ and validation/\n",
    "- put the cat pictures index 0-999 in data/train/cats\n",
    "- put the cat pictures index 1000-1400 in data/validation/cats\n",
    "- put the dogs pictures index 12500-13499 in data/train/dogs\n",
    "- put the dog pictures index 13500-13900 in data/validation/dogs\n",
    "So that we have 1000 training examples for each class, and 400 validation examples for each class.\n",
    "In summary, this is our directory structure:\n",
    "```\n",
    "data/\n",
    "    train/\n",
    "        dogs/\n",
    "            dog001.jpg\n",
    "            dog002.jpg\n",
    "            ...\n",
    "        cats/\n",
    "            cat001.jpg\n",
    "            cat002.jpg\n",
    "            ...\n",
    "    validation/\n",
    "        dogs/\n",
    "            dog001.jpg\n",
    "            dog002.jpg\n",
    "            ...\n",
    "        cats/\n",
    "            cat001.jpg\n",
    "            cat002.jpg\n",
    "            ...\n",
    "```\n",
    "'''\n"
   ]
  },
  {
   "cell_type": "markdown",
   "metadata": {},
   "source": [
    "# Code"
   ]
  },
  {
   "cell_type": "markdown",
   "metadata": {},
   "source": [
    "### Constants, paths, configuration"
   ]
  },
  {
   "cell_type": "code",
   "execution_count": 7,
   "metadata": {
    "collapsed": true
   },
   "outputs": [],
   "source": [
    "# dimensions of our images.\n",
    "img_width, img_height = 150, 150\n",
    "target_size = (img_width, img_height)\n",
    "\n",
    "## folder in which there are datasets and where bottleneck files will be saved\n",
    "DATASET_FOLDER = 'dogs_and_cats/data_small'\n",
    "\n",
    "## remember to edit these values when changing datasets\n",
    "nb_train_samples = 2000\n",
    "nb_validation_samples = 800\n",
    "epochs = 50\n",
    "batch_size = 16\n",
    "\n",
    "\n",
    "top_model_weights_path = '{}/bottleneck_fc_model.h5'.format(DATASET_FOLDER)\n",
    "train_data_dir = '{}/train'.format(DATASET_FOLDER)\n",
    "validation_data_dir = '{}/validation'.format(DATASET_FOLDER)\n",
    "\n",
    "features_train_path = '{}/bottleneck_features_train.npy'.format(DATASET_FOLDER)\n",
    "features_validation_path = '{}/bottleneck_features_validation.npy'.format(DATASET_FOLDER)\n",
    "\n",
    "\n",
    "# Checks if nb_train_samples and nb_validation_samples\n",
    "# are divisible by batch_size\n",
    "\n",
    "if nb_train_samples % batch_size != 0:\n",
    "    raise ArithmeticError(\n",
    "        \"nb_train_samples should be divisibe by batch_size.\\n\"\n",
    "        \"nb_train_samples is \"+str(nb_train_samples)+\", \"\n",
    "        \"but batch_size is \"+str(batch_size)+\".\"\n",
    "    )\n",
    "    \n",
    "if nb_validation_samples % batch_size != 0:\n",
    "    raise ArithmeticError(\n",
    "        \"nb_validation_samples should be divisibe by batch_size.\\n\"\n",
    "        \"nb_validation_samples is \"+str(nb_validation_samples)+\", \"\n",
    "        \"but batch_size is \"+str(batch_size)+\".\"\n",
    "    )"
   ]
  },
  {
   "cell_type": "markdown",
   "metadata": {},
   "source": [
    "### Proper code"
   ]
  },
  {
   "cell_type": "code",
   "execution_count": 2,
   "metadata": {
    "scrolled": true
   },
   "outputs": [
    {
     "name": "stderr",
     "output_type": "stream",
     "text": [
      "Using TensorFlow backend.\n"
     ]
    }
   ],
   "source": [
    "import numpy as np\n",
    "from keras.preprocessing.image import ImageDataGenerator\n",
    "from keras.models import Sequential\n",
    "from keras.layers import Dropout, Flatten, Dense\n",
    "from keras import applications\n",
    "\n",
    "def save_bottlebeck_features():\n",
    "    datagen = ImageDataGenerator(rescale = 1. / 255)\n",
    "\n",
    "    # build the VGG16 network\n",
    "    model = applications.VGG16(include_top = False, weights = 'imagenet')\n",
    "    \n",
    "    def create_bottleneck(data_dir, samples_count, features_path):\n",
    "        generator = datagen.flow_from_directory(\n",
    "            data_dir,\n",
    "            target_size = target_size,\n",
    "            batch_size = batch_size,\n",
    "            class_mode = None,\n",
    "            shuffle = False)\n",
    "        bottleneck_features = model.predict_generator(generator, samples_count // batch_size)\n",
    "        np.save(features_path, bottleneck_features)\n",
    "\n",
    "    create_bottleneck(train_data_dir, nb_train_samples, features_train_path)\n",
    "    \n",
    "    create_bottleneck(validation_data_dir, nb_validation_samples, features_validation_path)\n",
    "\n",
    "def my_model(input_shape):\n",
    "    model = Sequential()\n",
    "    model.add(Flatten(input_shape = input_shape))\n",
    "    model.add(Dense(256, activation = 'relu'))\n",
    "    model.add(Dropout(0.5))\n",
    "    model.add(Dense(1, activation = 'sigmoid'))\n",
    "    return model\n",
    "\n",
    "def train_top_model():\n",
    "    \n",
    "    train_data = np.load(features_train_path)\n",
    "    train_labels = np.array(\n",
    "        [0] * (nb_train_samples // 2) + [1] * (nb_train_samples // 2))\n",
    "\n",
    "    validation_data = np.load(features_validation_path)\n",
    "    validation_labels = np.array(\n",
    "        [0] * (nb_validation_samples // 2) + [1] * (nb_validation_samples // 2))\n",
    "\n",
    "    model = my_model(input_shape = train_data.shape[1:])\n",
    "    model.compile(optimizer = 'rmsprop', loss = 'binary_crossentropy', metrics = ['accuracy'])\n",
    "    model.fit(train_data, train_labels, epochs = epochs, batch_size = batch_size, \n",
    "              validation_data = (validation_data, validation_labels))\n",
    "    model.save_weights(top_model_weights_path)\n"
   ]
  },
  {
   "cell_type": "code",
   "execution_count": null,
   "metadata": {
    "collapsed": true
   },
   "outputs": [],
   "source": [
    "save_bottlebeck_features()\n",
    "train_top_model()"
   ]
  },
  {
   "cell_type": "code",
   "execution_count": 3,
   "metadata": {
    "collapsed": true
   },
   "outputs": [],
   "source": [
    "from urllib.request import urlopen\n",
    "import io\n",
    "from keras.preprocessing.image import ImageDataGenerator, array_to_img, img_to_array, load_img\n",
    "\n",
    "# Loads image\n",
    "# path_or_url - path to image on disk or url to image on the internet\n",
    "# target_size - dimentions of the returned image\n",
    "# return PIL image\n",
    "def get_image(path_or_url, target_size):\n",
    "    img_path = None\n",
    "    \n",
    "    if path_or_url.startswith(\"http://\") or path_or_url.startswith(\"https://\"):\n",
    "        img_path = io.BytesIO(urlopen(path_or_url).read())\n",
    "    else:\n",
    "        img_path = path_or_url\n",
    "\n",
    "    return load_img(img_path, target_size = target_size)"
   ]
  },
  {
   "cell_type": "code",
   "execution_count": 8,
   "metadata": {},
   "outputs": [
    {
     "data": {
      "text/plain": [
       "array([[ 1.],\n",
       "       [ 1.],\n",
       "       [ 1.],\n",
       "       [ 1.],\n",
       "       [ 1.],\n",
       "       [ 0.],\n",
       "       [ 0.],\n",
       "       [ 0.],\n",
       "       [ 0.],\n",
       "       [ 0.],\n",
       "       [ 0.],\n",
       "       [ 0.],\n",
       "       [ 1.],\n",
       "       [ 0.],\n",
       "       [ 0.],\n",
       "       [ 0.]], dtype=float32)"
      ]
     },
     "execution_count": 8,
     "metadata": {},
     "output_type": "execute_result"
    }
   ],
   "source": [
    "\n",
    "example_dog_url = \"https://i.ytimg.com/vi/SfLV8hD7zX4/maxresdefault.jpg\"\n",
    "example_cat_url = \"http://www.petmd.com/sites/default/files/what-does-it-mean-when-cat-wags-tail.jpg\"\n",
    "\n",
    "\n",
    "img = get_image(example_dog_url, target_size)\n",
    "\n",
    "images = [img] # one image added by default\n",
    "\n",
    "# Can also add multiple from test folder\n",
    "for n in range(1, 16):\n",
    "    img = get_image(\"dogs_and_cats/split_data/test/{}.jpg\".format(n), target_size)\n",
    "    x = img_to_array(img)\n",
    "    images.append(x)\n",
    "\n",
    "# convert list of ndarrays to ndarray \n",
    "# ----- for instance images is N ndarrays of shape (A,B,C)\n",
    "# ----- result of np.stack will be ndarray of shape (N, A, B, C)\n",
    "images = np.stack(images, axis = 0)\n",
    "\n",
    "# find features using VGG16\n",
    "vgg16_model = applications.VGG16(weights='imagenet', include_top=False)\n",
    "features = vgg16_model.predict(images)\n",
    "\n",
    "# get our freakin' epic model\n",
    "model = my_model(features.shape[1:])\n",
    "\n",
    "# load saved weights\n",
    "model.load_weights(top_model_weights_path)\n",
    "\n",
    "# predict\n",
    "model.predict(features, batch_size = batch_size)"
   ]
  }
 ],
 "metadata": {
  "kernelspec": {
   "display_name": "Python 3",
   "language": "python",
   "name": "python3"
  },
  "language_info": {
   "codemirror_mode": {
    "name": "ipython",
    "version": 3
   },
   "file_extension": ".py",
   "mimetype": "text/x-python",
   "name": "python",
   "nbconvert_exporter": "python",
   "pygments_lexer": "ipython3",
   "version": "3.5.2"
  }
 },
 "nbformat": 4,
 "nbformat_minor": 2
}
