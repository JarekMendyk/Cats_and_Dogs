{
 "cells": [
  {
   "cell_type": "code",
   "execution_count": null,
   "metadata": {
    "collapsed": true
   },
   "outputs": [],
   "source": [
    "from __future__ import division, print_function, absolute_import\n",
    "\n",
    "# from skimage import color, io                              # there's sth wrong with that - is this useful in the code?\n",
    "from scipy.misc import imresize\n",
    "import numpy as np\n",
    "from sklearn.cross_validation import train_test_split\n",
    "import os\n",
    "from glob import glob\n",
    "\n",
    "import tflearn\n",
    "from tflearn.data_utils import shuffle, to_categorical\n",
    "from tflearn.layers.core import input_data, dropout, fully_connected\n",
    "from tflearn.layers.conv import conv_2d, max_pool_2d\n",
    "from tflearn.layers.estimator import regression\n",
    "from tflearn.data_preprocessing import ImagePreprocessing\n",
    "from tflearn.data_augmentation import ImageAugmentation\n",
    "from tflearn.metrics import Accuracy\n",
    "\n",
    "###################################\n",
    "### Import picture files \n",
    "###################################\n",
    "\n",
    "files_path = 'G:/Prace/Jarek/Modele/NeuralNetworks/dogs_and_cats/train/train' #'/rawdata/train/'\n",
    "\n",
    "cat_files_path = os.path.join(files_path, 'cat*.jpg')\n",
    "dog_files_path = os.path.join(files_path, 'dog*.jpg')\n",
    "\n",
    "cat_files = sorted(glob(cat_files_path))\n",
    "dog_files = sorted(glob(dog_files_path))\n",
    "\n",
    "n_files = len(cat_files) + len(dog_files)\n",
    "print(n_files)\n",
    "\n",
    "size_image = 64\n",
    "\n",
    "allX = np.zeros((n_files, size_image, size_image, 3), dtype='float64')\n",
    "ally = np.zeros(n_files)\n",
    "count = 0\n",
    "for f in cat_files:\n",
    "    try:\n",
    "        img = io.imread(f)\n",
    "        new_img = imresize(img, (size_image, size_image, 3))\n",
    "        allX[count] = np.array(new_img)\n",
    "        ally[count] = 0\n",
    "        count += 1\n",
    "    except:\n",
    "        continue\n",
    "\n",
    "for f in dog_files:\n",
    "    try:\n",
    "        img = io.imread(f)\n",
    "        new_img = imresize(img, (size_image, size_image, 3))\n",
    "        allX[count] = np.array(new_img)\n",
    "        ally[count] = 1\n",
    "        count += 1\n",
    "    except:\n",
    "        continue\n",
    "   \n",
    "###################################\n",
    "# Prepare train & test samples\n",
    "###################################\n",
    "\n",
    "# test-train split   \n",
    "X, X_test, Y, Y_test = train_test_split(allX, ally, test_size=0.1, random_state=42)\n",
    "\n",
    "# encode the Ys\n",
    "Y = to_categorical(Y, 2)\n",
    "Y_test = to_categorical(Y_test, 2)\n",
    "\n",
    "\n",
    "###################################\n",
    "# Image transformations\n",
    "###################################\n",
    "\n",
    "# normalisation of images\n",
    "img_prep = ImagePreprocessing()\n",
    "img_prep.add_featurewise_zero_center()\n",
    "img_prep.add_featurewise_stdnorm()\n",
    "\n",
    "# Create extra synthetic training data by flipping & rotating images\n",
    "img_aug = ImageAugmentation()\n",
    "img_aug.add_random_flip_leftright()\n",
    "img_aug.add_random_rotation(max_angle=25.)\n",
    "\n",
    "###################################\n",
    "# Define network architecture\n",
    "###################################\n",
    "\n",
    "# Input is a 32x32 image with 3 color channels (red, green and blue)\n",
    "network = input_data(shape=[None, 64, 64, 3],\n",
    "                     data_preprocessing=img_prep,\n",
    "                     data_augmentation=img_aug)\n",
    "\n",
    "# 1: Convolution layer with 32 filters, each 3x3x3\n",
    "conv_1 = conv_2d(network, 32, 3, activation='relu', name='conv_1')\n",
    "\n",
    "# 2: Max pooling layer\n",
    "network = max_pool_2d(conv_1, 2)\n",
    "\n",
    "# 3: Convolution layer with 64 filters\n",
    "conv_2 = conv_2d(network, 64, 3, activation='relu', name='conv_2')\n",
    "\n",
    "# 4: Convolution layer with 64 filters\n",
    "conv_3 = conv_2d(conv_2, 64, 3, activation='relu', name='conv_3')\n",
    "\n",
    "# 5: Max pooling layer\n",
    "network = max_pool_2d(conv_3, 2)\n",
    "\n",
    "# 6: Fully-connected 512 node layer\n",
    "network = fully_connected(network, 512, activation='relu')\n",
    "\n",
    "# 7: Dropout layer to combat overfitting\n",
    "network = dropout(network, 0.5)\n",
    "\n",
    "# 8: Fully-connected layer with two outputs\n",
    "network = fully_connected(network, 2, activation='softmax')\n",
    "\n",
    "# Configure how the network will be trained\n",
    "acc = Accuracy(name=\"Accuracy\")\n",
    "network = regression(network, optimizer='adam',\n",
    "                     loss='categorical_crossentropy',\n",
    "                     learning_rate=0.0005, metric=acc)\n",
    "\n",
    "# Wrap the network in a model object\n",
    "model = tflearn.DNN(network, checkpoint_path='model_cat_dog_6.tflearn', max_checkpoints = 3,\n",
    "                    tensorboard_verbose = 3, tensorboard_dir='tmp/tflearn_logs/')\n",
    "\n",
    "###################################\n",
    "# Train model for 100 epochs\n",
    "###################################\n",
    "model.fit(X, Y, validation_set=(X_test, Y_test), batch_size=500,\n",
    "      n_epoch=100, run_id='model_cat_dog_6', show_metric=True)\n",
    "\n",
    "model.save('model_cat_dog_6_final.tflearn')"
   ]
  },
  {
   "cell_type": "code",
   "execution_count": 2,
   "metadata": {},
   "outputs": [
    {
     "name": "stdout",
     "output_type": "stream",
     "text": [
      "INFO:tensorflow:Restoring parameters from C:\\Users\\jarek\\Documents\\GitHub\\model_cat_dog_6_final.tflearn\n"
     ]
    }
   ],
   "source": [
    "model.load('model_cat_dog_6_final.tflearn')"
   ]
  },
  {
   "cell_type": "code",
   "execution_count": 3,
   "metadata": {},
   "outputs": [
    {
     "name": "stdout",
     "output_type": "stream",
     "text": [
      "[1.0]\n"
     ]
    }
   ],
   "source": [
    "accuracy = model.evaluate(X_test, Y_test)\n",
    "print(model.evaluate(X_test, Y_test))"
   ]
  },
  {
   "cell_type": "code",
   "execution_count": 13,
   "metadata": {},
   "outputs": [
    {
     "data": {
      "text/plain": [
       "(2500, 2)"
      ]
     },
     "execution_count": 13,
     "metadata": {},
     "output_type": "execute_result"
    }
   ],
   "source": [
    "prediction=model.predict(X_test)\n",
    "prediction.shape"
   ]
  },
  {
   "cell_type": "code",
   "execution_count": 64,
   "metadata": {},
   "outputs": [
    {
     "data": {
      "text/plain": [
       "array([[ 0.94957221,  0.05042787],\n",
       "       [ 0.94957221,  0.05042787],\n",
       "       [ 0.94957221,  0.05042787],\n",
       "       [ 0.94957221,  0.05042787]], dtype=float32)"
      ]
     },
     "execution_count": 64,
     "metadata": {},
     "output_type": "execute_result"
    }
   ],
   "source": [
    "prediction.sum(axis=0)\n",
    "prediction[0:4]\n"
   ]
  },
  {
   "cell_type": "code",
   "execution_count": null,
   "metadata": {
    "collapsed": true
   },
   "outputs": [],
   "source": []
  }
 ],
 "metadata": {
  "kernelspec": {
   "display_name": "Python 3",
   "language": "python",
   "name": "python3"
  },
  "language_info": {
   "codemirror_mode": {
    "name": "ipython",
    "version": 3
   },
   "file_extension": ".py",
   "mimetype": "text/x-python",
   "name": "python",
   "nbconvert_exporter": "python",
   "pygments_lexer": "ipython3",
   "version": "3.5.3"
  }
 },
 "nbformat": 4,
 "nbformat_minor": 2
}
